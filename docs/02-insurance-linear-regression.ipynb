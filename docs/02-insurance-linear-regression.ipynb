{
 "cells": [
  {
   "cell_type": "markdown",
   "metadata": {
    "_cell_guid": "b1076dfc-b9ad-4769-8c92-a6c4dae69d19",
    "_uuid": "8f2839f25d086af736a60e9eeb907d3b93b6e0e5"
   },
   "source": [
    "# Insurance cost prediction using linear regression\n",
    "\n",
    "In this assignment we're going to use information like a person's age, sex, BMI, no. of children and smoking habit to predict the price of yearly medical bills. This kind of model is useful for insurance companies to determine the yearly insurance premium for a person. The dataset for this problem is taken from: https://www.kaggle.com/mirichoi0218/insurance\n",
    "\n",
    "\n",
    "We will create a model with the following steps:\n",
    "1. Download and explore the dataset\n",
    "2. Prepare the dataset for training\n",
    "3. Create a linear regression model\n",
    "4. Train the model to fit the data\n",
    "5. Make predictions using the trained model\n",
    "\n",
    "\n",
    "This assignment builds upon the concepts from the first 2 lectures. It will help to review these Jupyter notebooks:\n",
    "- PyTorch basics: https://jovian.ml/aakashns/01-pytorch-basics\n",
    "- Linear Regression: https://jovian.ml/aakashns/02-linear-regression\n",
    "- Logistic Regression: https://jovian.ml/aakashns/03-logistic-regression\n",
    "- Linear regression (minimal): https://jovian.ml/aakashns/housing-linear-minimal\n",
    "- Logistic regression (minimal): https://jovian.ml/aakashns/mnist-logistic-minimal\n",
    "\n",
    "As you go through this notebook, you will find a **???** in certain places. Your job is to replace the **???** with appropriate code or values, to ensure that the notebook runs properly end-to-end . In some cases, you'll be required to choose some hyperparameters (learning rate, batch size etc.). Try to experiment with the hypeparameters to get the lowest loss.\n"
   ]
  },
  {
   "cell_type": "code",
   "execution_count": 1,
   "metadata": {},
   "outputs": [],
   "source": [
    "# Uncomment and run the commands below if imports fail\n",
    "# !conda install numpy pytorch torchvision cpuonly -c pytorch -y\n",
    "# !pip install matplotlib --upgrade --quiet\n",
    "!pip install jovian --upgrade --quiet"
   ]
  },
  {
   "cell_type": "code",
   "execution_count": 2,
   "metadata": {},
   "outputs": [],
   "source": [
    "import torch\n",
    "import jovian\n",
    "import torchvision\n",
    "import torch.nn as nn\n",
    "import pandas as pd\n",
    "import matplotlib.pyplot as plt\n",
    "import torch.nn.functional as F\n",
    "from torchvision.datasets.utils import download_url\n",
    "from torch.utils.data import DataLoader, TensorDataset, random_split"
   ]
  },
  {
   "cell_type": "code",
   "execution_count": 84,
   "metadata": {},
   "outputs": [],
   "source": [
    "project_name='Assignment2-insurance-linear-regression' # will be used by jovian.commit"
   ]
  },
  {
   "cell_type": "code",
   "execution_count": 6,
   "metadata": {},
   "outputs": [
    {
     "data": {
      "text/plain": [
       "<function torchvision.datasets.utils.download_url(url, root, filename, md5)>"
      ]
     },
     "execution_count": 6,
     "metadata": {},
     "output_type": "execute_result"
    }
   ],
   "source": [
    "download_url"
   ]
  },
  {
   "cell_type": "markdown",
   "metadata": {},
   "source": [
    "## Step 1: Download and explore the data\n",
    "\n",
    "Let us begin by downloading the data. We'll use the `download_url` function from PyTorch to get the data as a CSV (comma-separated values) file. "
   ]
  },
  {
   "cell_type": "code",
   "execution_count": 11,
   "metadata": {
    "_cell_guid": "79c7e3d0-c299-4dcb-8224-4455121ee9b0",
    "_uuid": "d629ff2d2480ee46fbb7e2d37f6b5fab8052498a"
   },
   "outputs": [
    {
     "name": "stdout",
     "output_type": "stream",
     "text": [
      "Downloading https://hub.jovian.ml/wp-content/uploads/2020/05/insurance.csv to .\\insurance.csv\n"
     ]
    }
   ],
   "source": [
    "DATASET_URL = \"https://hub.jovian.ml/wp-content/uploads/2020/05/insurance.csv\"\n",
    "insurance = \"insurance.csv\"\n",
    "download_url(DATASET_URL, '.', insurance, 'md5')"
   ]
  },
  {
   "cell_type": "markdown",
   "metadata": {},
   "source": [
    "To load the dataset into memory, we'll use the `read_csv` function from the `pandas` library. The data will be loaded as a Pandas dataframe. See this short tutorial to learn more: https://data36.com/pandas-tutorial-1-basics-reading-data-files-dataframes-data-selection/"
   ]
  },
  {
   "cell_type": "code",
   "execution_count": 194,
   "metadata": {},
   "outputs": [
    {
     "data": {
      "text/html": [
       "<div>\n",
       "<style scoped>\n",
       "    .dataframe tbody tr th:only-of-type {\n",
       "        vertical-align: middle;\n",
       "    }\n",
       "\n",
       "    .dataframe tbody tr th {\n",
       "        vertical-align: top;\n",
       "    }\n",
       "\n",
       "    .dataframe thead th {\n",
       "        text-align: right;\n",
       "    }\n",
       "</style>\n",
       "<table border=\"1\" class=\"dataframe\">\n",
       "  <thead>\n",
       "    <tr style=\"text-align: right;\">\n",
       "      <th></th>\n",
       "      <th>age</th>\n",
       "      <th>sex</th>\n",
       "      <th>bmi</th>\n",
       "      <th>children</th>\n",
       "      <th>smoker</th>\n",
       "      <th>region</th>\n",
       "      <th>charges</th>\n",
       "    </tr>\n",
       "  </thead>\n",
       "  <tbody>\n",
       "    <tr>\n",
       "      <td>0</td>\n",
       "      <td>19</td>\n",
       "      <td>female</td>\n",
       "      <td>27.900</td>\n",
       "      <td>0</td>\n",
       "      <td>yes</td>\n",
       "      <td>southwest</td>\n",
       "      <td>16884.92400</td>\n",
       "    </tr>\n",
       "    <tr>\n",
       "      <td>1</td>\n",
       "      <td>18</td>\n",
       "      <td>male</td>\n",
       "      <td>33.770</td>\n",
       "      <td>1</td>\n",
       "      <td>no</td>\n",
       "      <td>southeast</td>\n",
       "      <td>1725.55230</td>\n",
       "    </tr>\n",
       "    <tr>\n",
       "      <td>2</td>\n",
       "      <td>28</td>\n",
       "      <td>male</td>\n",
       "      <td>33.000</td>\n",
       "      <td>3</td>\n",
       "      <td>no</td>\n",
       "      <td>southeast</td>\n",
       "      <td>4449.46200</td>\n",
       "    </tr>\n",
       "    <tr>\n",
       "      <td>3</td>\n",
       "      <td>33</td>\n",
       "      <td>male</td>\n",
       "      <td>22.705</td>\n",
       "      <td>0</td>\n",
       "      <td>no</td>\n",
       "      <td>northwest</td>\n",
       "      <td>21984.47061</td>\n",
       "    </tr>\n",
       "    <tr>\n",
       "      <td>4</td>\n",
       "      <td>32</td>\n",
       "      <td>male</td>\n",
       "      <td>28.880</td>\n",
       "      <td>0</td>\n",
       "      <td>no</td>\n",
       "      <td>northwest</td>\n",
       "      <td>3866.85520</td>\n",
       "    </tr>\n",
       "  </tbody>\n",
       "</table>\n",
       "</div>"
      ],
      "text/plain": [
       "   age     sex     bmi  children smoker     region      charges\n",
       "0   19  female  27.900         0    yes  southwest  16884.92400\n",
       "1   18    male  33.770         1     no  southeast   1725.55230\n",
       "2   28    male  33.000         3     no  southeast   4449.46200\n",
       "3   33    male  22.705         0     no  northwest  21984.47061\n",
       "4   32    male  28.880         0     no  northwest   3866.85520"
      ]
     },
     "execution_count": 194,
     "metadata": {},
     "output_type": "execute_result"
    }
   ],
   "source": [
    "dataframe_raw = pd.read_csv(insurance)\n",
    "dataframe_raw.head()"
   ]
  },
  {
   "cell_type": "markdown",
   "metadata": {},
   "source": [
    "We're going to do a slight customization of the data, so that you every participant receives a slightly different version of the dataset. Fill in your name below as a string (enter at least 5 characters)"
   ]
  },
  {
   "cell_type": "code",
   "execution_count": 195,
   "metadata": {},
   "outputs": [],
   "source": [
    "your_name = str('Bilgenur') # at least 5 characters"
   ]
  },
  {
   "cell_type": "markdown",
   "metadata": {},
   "source": [
    "The `customize_dataset` function will customize the dataset slightly using your name as a source of random numbers."
   ]
  },
  {
   "cell_type": "code",
   "execution_count": 196,
   "metadata": {},
   "outputs": [],
   "source": [
    "def customize_dataset(dataframe_raw, rand_str):\n",
    "    dataframe = dataframe_raw.copy(deep=True)\n",
    "    # drop some rows\n",
    "    dataframe = dataframe.sample(int(0.95*len(dataframe)), random_state=int(ord(rand_str[0])))\n",
    "    # scale input\n",
    "    dataframe.bmi = dataframe.bmi * ord(rand_str[1])/100.\n",
    "    # scale target\n",
    "    dataframe.charges = dataframe.charges * ord(rand_str[2])/100.\n",
    "    # drop column\n",
    "    if ord(rand_str[3]) % 2 == 1:\n",
    "        dataframe = dataframe.drop(['region'], axis=1)\n",
    "    return dataframe"
   ]
  },
  {
   "cell_type": "code",
   "execution_count": 197,
   "metadata": {},
   "outputs": [
    {
     "data": {
      "text/html": [
       "<div>\n",
       "<style scoped>\n",
       "    .dataframe tbody tr th:only-of-type {\n",
       "        vertical-align: middle;\n",
       "    }\n",
       "\n",
       "    .dataframe tbody tr th {\n",
       "        vertical-align: top;\n",
       "    }\n",
       "\n",
       "    .dataframe thead th {\n",
       "        text-align: right;\n",
       "    }\n",
       "</style>\n",
       "<table border=\"1\" class=\"dataframe\">\n",
       "  <thead>\n",
       "    <tr style=\"text-align: right;\">\n",
       "      <th></th>\n",
       "      <th>age</th>\n",
       "      <th>sex</th>\n",
       "      <th>bmi</th>\n",
       "      <th>children</th>\n",
       "      <th>smoker</th>\n",
       "      <th>charges</th>\n",
       "    </tr>\n",
       "  </thead>\n",
       "  <tbody>\n",
       "    <tr>\n",
       "      <td>397</td>\n",
       "      <td>21</td>\n",
       "      <td>male</td>\n",
       "      <td>32.57100</td>\n",
       "      <td>0</td>\n",
       "      <td>no</td>\n",
       "      <td>17913.417527</td>\n",
       "    </tr>\n",
       "    <tr>\n",
       "      <td>211</td>\n",
       "      <td>40</td>\n",
       "      <td>male</td>\n",
       "      <td>32.41875</td>\n",
       "      <td>4</td>\n",
       "      <td>no</td>\n",
       "      <td>8815.733550</td>\n",
       "    </tr>\n",
       "    <tr>\n",
       "      <td>304</td>\n",
       "      <td>57</td>\n",
       "      <td>female</td>\n",
       "      <td>39.90000</td>\n",
       "      <td>2</td>\n",
       "      <td>no</td>\n",
       "      <td>13657.903560</td>\n",
       "    </tr>\n",
       "    <tr>\n",
       "      <td>349</td>\n",
       "      <td>19</td>\n",
       "      <td>male</td>\n",
       "      <td>29.22675</td>\n",
       "      <td>0</td>\n",
       "      <td>no</td>\n",
       "      <td>1766.592342</td>\n",
       "    </tr>\n",
       "    <tr>\n",
       "      <td>733</td>\n",
       "      <td>48</td>\n",
       "      <td>female</td>\n",
       "      <td>28.62825</td>\n",
       "      <td>1</td>\n",
       "      <td>no</td>\n",
       "      <td>10203.030378</td>\n",
       "    </tr>\n",
       "  </tbody>\n",
       "</table>\n",
       "</div>"
      ],
      "text/plain": [
       "     age     sex       bmi  children smoker       charges\n",
       "397   21    male  32.57100         0     no  17913.417527\n",
       "211   40    male  32.41875         4     no   8815.733550\n",
       "304   57  female  39.90000         2     no  13657.903560\n",
       "349   19    male  29.22675         0     no   1766.592342\n",
       "733   48  female  28.62825         1     no  10203.030378"
      ]
     },
     "execution_count": 197,
     "metadata": {},
     "output_type": "execute_result"
    }
   ],
   "source": [
    "dataframe = customize_dataset(dataframe_raw, your_name)\n",
    "dataframe.head()"
   ]
  },
  {
   "cell_type": "markdown",
   "metadata": {},
   "source": [
    "Let us answer some basic questions about the dataset. \n",
    "\n",
    "\n",
    "**Q: How many rows does the dataset have?**"
   ]
  },
  {
   "cell_type": "code",
   "execution_count": 198,
   "metadata": {},
   "outputs": [
    {
     "name": "stdout",
     "output_type": "stream",
     "text": [
      "1271\n"
     ]
    }
   ],
   "source": [
    "num_rows = len(dataframe)\n",
    "# or dataframe.shape[0]\n",
    "print(num_rows)"
   ]
  },
  {
   "cell_type": "markdown",
   "metadata": {},
   "source": [
    "**Q: How many columns does the dataset have**"
   ]
  },
  {
   "cell_type": "code",
   "execution_count": 199,
   "metadata": {},
   "outputs": [
    {
     "name": "stdout",
     "output_type": "stream",
     "text": [
      "6\n"
     ]
    }
   ],
   "source": [
    "num_cols = dataframe.shape[1]\n",
    "#or len(dataframe.columns)\n",
    "print(num_cols)"
   ]
  },
  {
   "cell_type": "markdown",
   "metadata": {},
   "source": [
    "**Q: What are the column titles of the input variables?**"
   ]
  },
  {
   "cell_type": "code",
   "execution_count": 201,
   "metadata": {},
   "outputs": [
    {
     "name": "stdout",
     "output_type": "stream",
     "text": [
      "['age', 'sex', 'bmi', 'children', 'smoker']\n"
     ]
    }
   ],
   "source": [
    "input_cols = list(dataframe.columns.values)\n",
    "input_cols.remove('charges')\n",
    "print(input_cols)\n"
   ]
  },
  {
   "cell_type": "markdown",
   "metadata": {},
   "source": [
    "**Q: Which of the input columns are non-numeric or categorical variables ?**\n",
    "\n",
    "Hint: `sex` is one of them. List the columns that are not numbers."
   ]
  },
  {
   "cell_type": "code",
   "execution_count": 202,
   "metadata": {},
   "outputs": [
    {
     "data": {
      "text/plain": [
       "['sex', 'smoker']"
      ]
     },
     "execution_count": 202,
     "metadata": {},
     "output_type": "execute_result"
    }
   ],
   "source": [
    "categorical_cols = list(dataframe.select_dtypes(include=['object']).columns.values)\n",
    "categorical_cols"
   ]
  },
  {
   "cell_type": "markdown",
   "metadata": {},
   "source": [
    "**Q: What are the column titles of output/target variable(s)?**"
   ]
  },
  {
   "cell_type": "code",
   "execution_count": 203,
   "metadata": {},
   "outputs": [
    {
     "data": {
      "text/plain": [
       "['charges']"
      ]
     },
     "execution_count": 203,
     "metadata": {},
     "output_type": "execute_result"
    }
   ],
   "source": [
    "output_cols = ['charges']\n",
    "output_cols"
   ]
  },
  {
   "cell_type": "markdown",
   "metadata": {},
   "source": [
    "**Q: (Optional) What is the minimum, maximum and average value of the `charges` column? Can you show the distribution of values in a graph?**\n",
    "Use this data visualization cheatsheet for referece: https://jovian.ml/aakashns/dataviz-cheatsheet"
   ]
  },
  {
   "cell_type": "code",
   "execution_count": 204,
   "metadata": {},
   "outputs": [
    {
     "name": "stdout",
     "output_type": "stream",
     "text": [
      "count     1271.000000\n",
      "mean     14309.809169\n",
      "std      13092.005378\n",
      "min       1211.623812\n",
      "25%       5107.322565\n",
      "50%      10049.078052\n",
      "75%      17908.709693\n",
      "max      68872.062251\n",
      "Name: charges, dtype: float64\n"
     ]
    },
    {
     "data": {
      "image/png": "[encoded data removed]",
      "text/plain": [
       "<Figure size 432x288 with 1 Axes>"
      ]
     },
     "metadata": {
      "needs_background": "light"
     },
     "output_type": "display_data"
    }
   ],
   "source": [
    "print(dataframe['charges'].describe())\n",
    "\n",
    "# Write your answer here\n",
    "# min value for charges column: 1211.623812\n",
    "# max value for charges column: 68872.062251\n",
    "# average (mean) value for charges column: 14309.809169\n",
    "\n",
    "import matplotlib\n",
    "import matplotlib.pyplot as plt\n",
    "import seaborn as sns\n",
    "\n",
    "plt.title(\"Distribution of Charges\")\n",
    "\n",
    "sns.distplot(dataframe.charges, kde=False);\n",
    "# does not like a normal distribution. If it was normal distribution , it would be ideal to use MSE as loss function"
   ]
  },
  {
   "cell_type": "markdown",
   "metadata": {},
   "source": [
    "Remember to commit your notebook to Jovian after every step, so that you don't lose your work."
   ]
  },
  {
   "cell_type": "code",
   "execution_count": 205,
   "metadata": {},
   "outputs": [
    {
     "data": {
      "application/javascript": [
       "window.require && require([\"base/js/namespace\"],function(Jupyter){Jupyter.notebook.save_checkpoint()})"
      ],
      "text/plain": [
       "<IPython.core.display.Javascript object>"
      ]
     },
     "metadata": {},
     "output_type": "display_data"
    },
    {
     "name": "stdout",
     "output_type": "stream",
     "text": [
      "[jovian] Attempting to save notebook..\n",
      "[jovian] Updating notebook \"bbaloglu/assignment2-insurance-linear-regression\" on https://jovian.ml/\n",
      "[jovian] Uploading notebook..\n",
      "[jovian] Committed successfully! https://jovian.ml/bbaloglu/assignment2-insurance-linear-regression\n"
     ]
    },
    {
     "data": {
      "text/plain": [
       "'https://jovian.ml/bbaloglu/assignment2-insurance-linear-regression'"
      ]
     },
     "execution_count": 205,
     "metadata": {},
     "output_type": "execute_result"
    }
   ],
   "source": [
    "jovian.commit(project=project_name, environment=None)"
   ]
  },
  {
   "cell_type": "markdown",
   "metadata": {},
   "source": [
    "## Step 2: Prepare the dataset for training\n",
    "\n",
    "We need to convert the data from the Pandas dataframe into a PyTorch tensors for training. To do this, the first step is to convert it numpy arrays. If you've filled out `input_cols`, `categorial_cols` and `output_cols` correctly, this following function will perform the conversion to numpy arrays."
   ]
  },
  {
   "cell_type": "code",
   "execution_count": 206,
   "metadata": {},
   "outputs": [],
   "source": [
    "def dataframe_to_arrays(dataframe):\n",
    "    # Make a copy of the original dataframe\n",
    "    dataframe1 = dataframe.copy(deep=True)\n",
    "    # Convert non-numeric categorical columns to numbers\n",
    "    for col in categorical_cols:\n",
    "        dataframe1[col] = dataframe1[col].astype('category').cat.codes\n",
    "    # Extract input & outputs as numpy arrays\n",
    "    inputs_array = dataframe1[input_cols].to_numpy()\n",
    "    targets_array = dataframe1[output_cols].to_numpy()\n",
    "    return inputs_array, targets_array"
   ]
  },
  {
   "cell_type": "markdown",
   "metadata": {},
   "source": [
    "Read through the [Pandas documentation](https://pandas.pydata.org/pandas-docs/stable/user_guide/categorical.html) to understand how we're converting categorical variables into numbers."
   ]
  },
  {
   "cell_type": "code",
   "execution_count": 207,
   "metadata": {},
   "outputs": [
    {
     "data": {
      "text/plain": [
       "(array([[21.     ,  1.     , 32.571  ,  0.     ,  0.     ],\n",
       "        [40.     ,  1.     , 32.41875,  4.     ,  0.     ],\n",
       "        [57.     ,  0.     , 39.9    ,  2.     ,  0.     ],\n",
       "        ...,\n",
       "        [19.     ,  0.     , 27.03225,  1.     ,  0.     ],\n",
       "        [62.     ,  0.     , 26.25   ,  0.     ,  0.     ],\n",
       "        [46.     ,  1.     , 46.0845 ,  3.     ,  0.     ]]),\n",
       " array([[17913.4175268],\n",
       "        [ 8815.73355  ],\n",
       "        [13657.90356  ],\n",
       "        ...,\n",
       "        [ 2927.694834 ],\n",
       "        [14527.21176  ],\n",
       "        [ 9659.644308 ]]))"
      ]
     },
     "execution_count": 207,
     "metadata": {},
     "output_type": "execute_result"
    }
   ],
   "source": [
    "inputs_array, targets_array = dataframe_to_arrays(dataframe)\n",
    "inputs_array, targets_array "
   ]
  },
  {
   "cell_type": "markdown",
   "metadata": {},
   "source": [
    "**Q: Convert the numpy arrays `inputs_array` and `targets_array` into PyTorch tensors. Make sure that the data type is `torch.float32`.**"
   ]
  },
  {
   "cell_type": "code",
   "execution_count": 208,
   "metadata": {},
   "outputs": [
    {
     "name": "stdout",
     "output_type": "stream",
     "text": [
      "tensor([[21.0000,  1.0000, 32.5710,  0.0000,  0.0000],\n",
      "        [40.0000,  1.0000, 32.4188,  4.0000,  0.0000],\n",
      "        [57.0000,  0.0000, 39.9000,  2.0000,  0.0000],\n",
      "        ...,\n",
      "        [19.0000,  0.0000, 27.0322,  1.0000,  0.0000],\n",
      "        [62.0000,  0.0000, 26.2500,  0.0000,  0.0000],\n",
      "        [46.0000,  1.0000, 46.0845,  3.0000,  0.0000]])\n",
      "tensor([[17913.4180],\n",
      "        [ 8815.7334],\n",
      "        [13657.9033],\n",
      "        ...,\n",
      "        [ 2927.6948],\n",
      "        [14527.2119],\n",
      "        [ 9659.6445]])\n"
     ]
    }
   ],
   "source": [
    "inputs = torch.from_numpy(inputs_array)\n",
    "targets = torch.from_numpy(targets_array)\n",
    "inputs, targets = inputs.type(torch.float32),targets.type(torch.float32)\n",
    "\n",
    "print(inputs)\n",
    "print(targets)"
   ]
  },
  {
   "cell_type": "code",
   "execution_count": 209,
   "metadata": {},
   "outputs": [
    {
     "data": {
      "text/plain": [
       "(torch.float32, torch.float32)"
      ]
     },
     "execution_count": 209,
     "metadata": {},
     "output_type": "execute_result"
    }
   ],
   "source": [
    "inputs.dtype, targets.dtype"
   ]
  },
  {
   "cell_type": "markdown",
   "metadata": {},
   "source": [
    "Next, we need to create PyTorch datasets & data loaders for training & validation. We'll start by creating a `TensorDataset`."
   ]
  },
  {
   "cell_type": "code",
   "execution_count": 210,
   "metadata": {},
   "outputs": [],
   "source": [
    "dataset = TensorDataset(inputs, targets)"
   ]
  },
  {
   "cell_type": "code",
   "execution_count": 211,
   "metadata": {},
   "outputs": [
    {
     "data": {
      "text/plain": [
       "1271"
      ]
     },
     "execution_count": 211,
     "metadata": {},
     "output_type": "execute_result"
    }
   ],
   "source": [
    "len(dataset)"
   ]
  },
  {
   "cell_type": "markdown",
   "metadata": {},
   "source": [
    "**Q: Pick a number between `0.1` and `0.2` to determine the fraction of data that will be used for creating the validation set. Then use `random_split` to create training & validation datasets. **"
   ]
  },
  {
   "cell_type": "code",
   "execution_count": 212,
   "metadata": {},
   "outputs": [
    {
     "data": {
      "text/plain": [
       "(1081, 190)"
      ]
     },
     "execution_count": 212,
     "metadata": {},
     "output_type": "execute_result"
    }
   ],
   "source": [
    "val_percent = 0.15 # between 0.1 and 0.2\n",
    "val_size = int(num_rows * val_percent)\n",
    "train_size = num_rows - val_size\n",
    "\n",
    "from torch.utils.data import random_split\n",
    "train_ds, val_ds = random_split(dataset, [train_size, val_size]) # Use the random_split function to split dataset into 2 parts of the desired length\n",
    "len(train_ds), len(val_ds)"
   ]
  },
  {
   "cell_type": "markdown",
   "metadata": {},
   "source": [
    "Finally, we can create data loaders for training & validation.\n",
    "\n",
    "**Q: Pick a batch size for the data loader.**"
   ]
  },
  {
   "cell_type": "code",
   "execution_count": 213,
   "metadata": {},
   "outputs": [],
   "source": [
    "batch_size = 64"
   ]
  },
  {
   "cell_type": "code",
   "execution_count": 214,
   "metadata": {},
   "outputs": [],
   "source": [
    "train_loader = DataLoader(train_ds, batch_size, shuffle=True)\n",
    "val_loader = DataLoader(val_ds, batch_size)"
   ]
  },
  {
   "cell_type": "markdown",
   "metadata": {},
   "source": [
    "Let's look at a batch of data to verify everything is working fine so far."
   ]
  },
  {
   "cell_type": "code",
   "execution_count": 215,
   "metadata": {},
   "outputs": [
    {
     "name": "stdout",
     "output_type": "stream",
     "text": [
      "inputs: tensor([[18.0000,  0.0000, 25.2945,  1.0000,  0.0000],\n",
      "        [59.0000,  1.0000, 31.1850,  2.0000,  0.0000],\n",
      "        [23.0000,  1.0000, 19.6507,  0.0000,  0.0000],\n",
      "        [43.0000,  0.0000, 26.5335,  1.0000,  1.0000],\n",
      "        [34.0000,  0.0000, 33.5160,  1.0000,  1.0000],\n",
      "        [49.0000,  1.0000, 32.9175,  1.0000,  0.0000],\n",
      "        [51.0000,  0.0000, 42.6930,  0.0000,  0.0000],\n",
      "        [43.0000,  1.0000, 37.7685,  3.0000,  1.0000],\n",
      "        [50.0000,  0.0000, 29.2215,  3.0000,  0.0000],\n",
      "        [46.0000,  0.0000, 37.3065,  0.0000,  1.0000],\n",
      "        [31.0000,  0.0000, 32.0197,  3.0000,  0.0000],\n",
      "        [35.0000,  1.0000, 25.6410,  3.0000,  1.0000],\n",
      "        [18.0000,  0.0000, 44.3520,  0.0000,  1.0000],\n",
      "        [61.0000,  1.0000, 35.6107,  0.0000,  0.0000],\n",
      "        [18.0000,  1.0000, 22.5435,  0.0000,  0.0000],\n",
      "        [26.0000,  0.0000, 35.9100,  2.0000,  0.0000],\n",
      "        [24.0000,  1.0000, 24.8377,  0.0000,  0.0000],\n",
      "        [48.0000,  1.0000, 29.4000,  1.0000,  1.0000],\n",
      "        [31.0000,  0.0000, 30.5550,  0.0000,  0.0000],\n",
      "        [44.0000,  1.0000, 31.7100,  2.0000,  1.0000],\n",
      "        [64.0000,  0.0000, 28.2292,  0.0000,  1.0000],\n",
      "        [32.0000,  0.0000, 31.2900,  2.0000,  0.0000],\n",
      "        [22.0000,  1.0000, 41.4750,  0.0000,  0.0000],\n",
      "        [34.0000,  0.0000, 19.9500,  3.0000,  0.0000],\n",
      "        [50.0000,  1.0000, 33.8153,  0.0000,  0.0000],\n",
      "        [54.0000,  0.0000, 22.5435,  3.0000,  0.0000],\n",
      "        [33.0000,  1.0000, 26.0347,  0.0000,  1.0000],\n",
      "        [64.0000,  1.0000, 40.0995,  0.0000,  0.0000],\n",
      "        [56.0000,  0.0000, 35.5110,  2.0000,  0.0000],\n",
      "        [53.0000,  1.0000, 30.3240,  0.0000,  0.0000],\n",
      "        [41.0000,  0.0000, 38.9550,  2.0000,  0.0000],\n",
      "        [37.0000,  0.0000, 29.1270,  3.0000,  0.0000],\n",
      "        [42.0000,  1.0000, 29.7255,  3.0000,  1.0000],\n",
      "        [24.0000,  1.0000, 33.6105,  0.0000,  0.0000],\n",
      "        [20.0000,  0.0000, 22.8900,  0.0000,  1.0000],\n",
      "        [47.0000,  0.0000, 29.2215,  0.0000,  1.0000],\n",
      "        [26.0000,  1.0000, 34.5450,  2.0000,  1.0000],\n",
      "        [48.0000,  0.0000, 23.9400,  0.0000,  0.0000],\n",
      "        [34.0000,  1.0000, 36.4087,  0.0000,  0.0000],\n",
      "        [58.0000,  0.0000, 23.9085,  0.0000,  0.0000],\n",
      "        [19.0000,  1.0000, 37.3065,  0.0000,  0.0000],\n",
      "        [36.0000,  0.0000, 28.2292,  0.0000,  0.0000],\n",
      "        [55.0000,  1.0000, 40.1940,  0.0000,  0.0000],\n",
      "        [46.0000,  0.0000, 24.8377,  1.0000,  1.0000],\n",
      "        [28.0000,  1.0000, 23.6408,  2.0000,  0.0000],\n",
      "        [44.0000,  0.0000, 38.3040,  0.0000,  0.0000],\n",
      "        [49.0000,  1.0000, 30.1245,  3.0000,  0.0000],\n",
      "        [38.0000,  0.0000, 36.5400,  2.0000,  0.0000],\n",
      "        [38.0000,  0.0000, 42.1575,  0.0000,  0.0000],\n",
      "        [18.0000,  1.0000, 33.2640,  2.0000,  1.0000],\n",
      "        [51.0000,  0.0000, 38.2043,  3.0000,  0.0000],\n",
      "        [20.0000,  0.0000, 38.8500,  5.0000,  0.0000],\n",
      "        [57.0000,  1.0000, 42.2940,  0.0000,  0.0000],\n",
      "        [55.0000,  0.0000, 26.6332,  3.0000,  0.0000],\n",
      "        [19.0000,  0.0000, 33.7155,  0.0000,  0.0000],\n",
      "        [33.0000,  0.0000, 35.1750,  0.0000,  1.0000],\n",
      "        [56.0000,  0.0000, 30.0247,  0.0000,  0.0000],\n",
      "        [54.0000,  0.0000, 34.3140,  0.0000,  0.0000],\n",
      "        [29.0000,  0.0000, 22.9425,  0.0000,  1.0000],\n",
      "        [24.0000,  0.0000, 26.5335,  0.0000,  0.0000],\n",
      "        [19.0000,  1.0000, 32.1195,  0.0000,  0.0000],\n",
      "        [60.0000,  0.0000, 30.1350,  1.0000,  0.0000],\n",
      "        [50.0000,  0.0000, 28.7280,  0.0000,  0.0000],\n",
      "        [42.0000,  1.0000, 25.8353,  2.0000,  1.0000]])\n",
      "targets: tensor([[ 2377.1848],\n",
      "        [13959.9570],\n",
      "        [23323.0137],\n",
      "        [23513.0488],\n",
      "        [40718.0273],\n",
      "        [10033.3506],\n",
      "        [10665.7344],\n",
      "        [45494.4766],\n",
      "        [21329.3340],\n",
      "        [45480.5977],\n",
      "        [ 6602.2896],\n",
      "        [20910.9590],\n",
      "        [41896.1016],\n",
      "        [14195.3740],\n",
      "        [ 1838.6517],\n",
      "        [ 4306.9600],\n",
      "        [ 2541.2058],\n",
      "        [25453.7344],\n",
      "        [ 4062.1953],\n",
      "        [42118.4297],\n",
      "        [31677.4609],\n",
      "        [ 5564.3047],\n",
      "        [ 1817.2047],\n",
      "        [ 7293.2812],\n",
      "        [ 9542.0859],\n",
      "        [13473.3799],\n",
      "        [19336.8887],\n",
      "        [15563.8066],\n",
      "        [13654.8477],\n",
      "        [10659.3945],\n",
      "        [ 7961.5137],\n",
      "        [ 7864.0259],\n",
      "        [35410.4570],\n",
      "        [ 2140.1084],\n",
      "        [21780.7227],\n",
      "        [24910.6543],\n",
      "        [38972.0352],\n",
      "        [ 8930.5674],\n",
      "        [ 4880.3325],\n",
      "        [12780.4854],\n",
      "        [ 1778.1440],\n",
      "        [ 5689.2437],\n",
      "        [11044.3867],\n",
      "        [23411.4668],\n",
      "        [ 4783.1987],\n",
      "        [13820.9863],\n",
      "        [11085.5977],\n",
      "        [ 7097.2676],\n",
      "        [ 5833.0591],\n",
      "        [37047.4219],\n",
      "        [12351.6768],\n",
      "        [ 5217.0806],\n",
      "        [22365.7422],\n",
      "        [14091.1191],\n",
      "        [ 2301.1299],\n",
      "        [40045.7227],\n",
      "        [12590.7646],\n",
      "        [11797.8477],\n",
      "        [17404.5293],\n",
      "        [ 3287.7502],\n",
      "        [ 1770.7281],\n",
      "        [14282.6680],\n",
      "        [27709.1016],\n",
      "        [22960.1289]])\n"
     ]
    }
   ],
   "source": [
    "for xb, yb in train_loader:\n",
    "    print(\"inputs:\", xb)\n",
    "    print(\"targets:\", yb)\n",
    "    break"
   ]
  },
  {
   "cell_type": "markdown",
   "metadata": {},
   "source": [
    "Let's save our work by committing to Jovian."
   ]
  },
  {
   "cell_type": "code",
   "execution_count": 192,
   "metadata": {},
   "outputs": [
    {
     "data": {
      "application/javascript": [
       "window.require && require([\"base/js/namespace\"],function(Jupyter){Jupyter.notebook.save_checkpoint()})"
      ],
      "text/plain": [
       "<IPython.core.display.Javascript object>"
      ]
     },
     "metadata": {},
     "output_type": "display_data"
    },
    {
     "name": "stdout",
     "output_type": "stream",
     "text": [
      "[jovian] Attempting to save notebook..\n",
      "[jovian] Updating notebook \"bbaloglu/assignment2-insurance-linear-regression\" on https://jovian.ml/\n",
      "[jovian] Uploading notebook..\n",
      "[jovian] Committed successfully! https://jovian.ml/bbaloglu/assignment2-insurance-linear-regression\n"
     ]
    },
    {
     "data": {
      "text/plain": [
       "'https://jovian.ml/bbaloglu/assignment2-insurance-linear-regression'"
      ]
     },
     "execution_count": 192,
     "metadata": {},
     "output_type": "execute_result"
    }
   ],
   "source": [
    "jovian.commit(project=project_name, environment=None)"
   ]
  },
  {
   "cell_type": "markdown",
   "metadata": {},
   "source": [
    "## Step 3: Create a Linear Regression Model\n",
    "\n",
    "Our model itself is a fairly straightforward linear regression (we'll build more complex models in the next assignment). \n"
   ]
  },
  {
   "cell_type": "code",
   "execution_count": 216,
   "metadata": {},
   "outputs": [
    {
     "name": "stdout",
     "output_type": "stream",
     "text": [
      "5\n",
      "1\n"
     ]
    }
   ],
   "source": [
    "input_size = len(input_cols)\n",
    "output_size = len(output_cols)\n",
    "print(input_size)\n",
    "print(output_size)"
   ]
  },
  {
   "cell_type": "markdown",
   "metadata": {},
   "source": [
    "**Q: Complete the class definition below by filling out the constructor (`__init__`), `forward`, `training_step` and `validation_step` methods.**\n",
    "\n",
    "Hint: Think carefully about picking a good loss fuction (it's not cross entropy). Maybe try 2-3 of them and see which one works best. See https://pytorch.org/docs/stable/nn.functional.html#loss-functions"
   ]
  },
  {
   "cell_type": "markdown",
   "metadata": {},
   "source": [
    "For my loss function, I decided to use the L1 loss function also known as the mean absolute loss because it handles outliers very well. The other loss function that is used for regression problems is the L2 loss function or the mean squared loss. Depending on the distribution of your data and whether or not it’s transformed to handle outliers, using one or the other will have a significant impact on your loss and model. Since I did not transform my data to account for possible outliers and the histogram suggests many outliers in the charges, I think it would be better to use the L1 loss function in this case. It is also worth nothing that the L1 loss function converges to an undefined minimum because the function is not differentiable at the minimum. The L2 loss function however, is a convex function, and converges to a minimum making it a very good loss function but models are penalized if the data is ‘noisy.’"
   ]
  },
  {
   "cell_type": "code",
   "execution_count": 225,
   "metadata": {},
   "outputs": [],
   "source": [
    "class InsuranceModel(nn.Module):\n",
    "    def __init__(self):\n",
    "        super().__init__()\n",
    "        self.linear = nn.Linear(input_size, output_size) # fill this (hint: use input_size & output_size defined above)\n",
    "        \n",
    "    def forward(self, xb):\n",
    "        out = self.linear(xb)                          # fill this\n",
    "        return out\n",
    "    \n",
    "    def training_step(self, batch):\n",
    "        inputs, targets = batch \n",
    "        # Generate predictions\n",
    "        out = self(inputs)          \n",
    "        # Calculate loss\n",
    "        loss = F.l1_loss(out, targets)                         # fill this\n",
    "        return loss\n",
    "    \n",
    "    def validation_step(self, batch):\n",
    "        inputs, targets = batch\n",
    "        # Generate predictions\n",
    "        out = self(inputs)\n",
    "        # Calculate loss\n",
    "        loss = F.l1_loss(out, targets)                          # fill this    \n",
    "        return {'val_loss': loss.detach()}\n",
    "        \n",
    "    def validation_epoch_end(self, outputs):\n",
    "        batch_losses = [x['val_loss'] for x in outputs]\n",
    "        epoch_loss = torch.stack(batch_losses).mean()   # Combine losses\n",
    "        return {'val_loss': epoch_loss.item()}\n",
    "    \n",
    "    def epoch_end(self, epoch, result, num_epochs):\n",
    "        # Print result every 20th epoch\n",
    "        if (epoch+1) % 20 == 0 or epoch == num_epochs-1:\n",
    "            print(\"Epoch [{}], val_loss: {:.4f}\".format(epoch+1, result['val_loss']))"
   ]
  },
  {
   "cell_type": "markdown",
   "metadata": {},
   "source": [
    "Let us create a model using the `InsuranceModel` class. You may need to come back later and re-run the next cell to reinitialize the model, in case the loss becomes `nan` or `infinity`."
   ]
  },
  {
   "cell_type": "code",
   "execution_count": 226,
   "metadata": {},
   "outputs": [],
   "source": [
    "model = InsuranceModel()"
   ]
  },
  {
   "cell_type": "markdown",
   "metadata": {},
   "source": [
    "Let's check out the weights and biases of the model using `model.parameters`."
   ]
  },
  {
   "cell_type": "code",
   "execution_count": 227,
   "metadata": {},
   "outputs": [
    {
     "data": {
      "text/plain": [
       "[Parameter containing:\n",
       " tensor([[-0.4113, -0.1363,  0.0614, -0.3721,  0.2951]], requires_grad=True),\n",
       " Parameter containing:\n",
       " tensor([0.3017], requires_grad=True)]"
      ]
     },
     "execution_count": 227,
     "metadata": {},
     "output_type": "execute_result"
    }
   ],
   "source": [
    "list(model.parameters())"
   ]
  },
  {
   "cell_type": "markdown",
   "metadata": {},
   "source": [
    "One final commit before we train the model."
   ]
  },
  {
   "cell_type": "code",
   "execution_count": 228,
   "metadata": {},
   "outputs": [
    {
     "data": {
      "application/javascript": [
       "window.require && require([\"base/js/namespace\"],function(Jupyter){Jupyter.notebook.save_checkpoint()})"
      ],
      "text/plain": [
       "<IPython.core.display.Javascript object>"
      ]
     },
     "metadata": {},
     "output_type": "display_data"
    },
    {
     "name": "stdout",
     "output_type": "stream",
     "text": [
      "[jovian] Attempting to save notebook..\n",
      "[jovian] Updating notebook \"bbaloglu/assignment2-insurance-linear-regression\" on https://jovian.ml/\n",
      "[jovian] Uploading notebook..\n",
      "[jovian] Committed successfully! https://jovian.ml/bbaloglu/assignment2-insurance-linear-regression\n"
     ]
    },
    {
     "data": {
      "text/plain": [
       "'https://jovian.ml/bbaloglu/assignment2-insurance-linear-regression'"
      ]
     },
     "execution_count": 228,
     "metadata": {},
     "output_type": "execute_result"
    }
   ],
   "source": [
    "jovian.commit(project=project_name, environment=None)"
   ]
  },
  {
   "cell_type": "markdown",
   "metadata": {},
   "source": [
    "## Step 4: Train the model to fit the data\n",
    "\n",
    "To train our model, we'll use the same `fit` function explained in the lecture. That's the benefit of defining a generic training loop - you can use it for any problem."
   ]
  },
  {
   "cell_type": "code",
   "execution_count": 229,
   "metadata": {},
   "outputs": [],
   "source": [
    "def evaluate(model, val_loader):\n",
    "    outputs = [model.validation_step(batch) for batch in val_loader]\n",
    "    return model.validation_epoch_end(outputs)\n",
    "\n",
    "def fit(epochs, lr, model, train_loader, val_loader, opt_func=torch.optim.SGD):\n",
    "    history = []\n",
    "    optimizer = opt_func(model.parameters(), lr)\n",
    "    for epoch in range(epochs):\n",
    "        # Training Phase \n",
    "        for batch in train_loader:\n",
    "            loss = model.training_step(batch)\n",
    "            loss.backward()\n",
    "            optimizer.step()\n",
    "            optimizer.zero_grad()\n",
    "        # Validation phase\n",
    "        result = evaluate(model, val_loader)\n",
    "        model.epoch_end(epoch, result, epochs)\n",
    "        history.append(result)\n",
    "    return history"
   ]
  },
  {
   "cell_type": "markdown",
   "metadata": {},
   "source": [
    "**Q: Use the `evaluate` function to calculate the loss on the validation set before training.**"
   ]
  },
  {
   "cell_type": "code",
   "execution_count": 231,
   "metadata": {},
   "outputs": [
    {
     "name": "stdout",
     "output_type": "stream",
     "text": [
      "{'val_loss': 14860.5029296875}\n"
     ]
    }
   ],
   "source": [
    "result = evaluate(model, val_loader) # Use the the evaluate function\n",
    "print(result) #a very high loss"
   ]
  },
  {
   "cell_type": "markdown",
   "metadata": {},
   "source": [
    "\n",
    "We are now ready to train the model. You may need to run the training loop many times, for different number of epochs and with different learning rates, to get a good result. Also, if your loss becomes too large (or `nan`), you may have to re-initialize the model by running the cell `model = InsuranceModel()`. Experiment with this for a while, and try to get to as low a loss as possible."
   ]
  },
  {
   "cell_type": "markdown",
   "metadata": {},
   "source": [
    "**Q: Train the model 4-5 times with different learning rates & for different number of epochs.**\n",
    "\n",
    "Hint: Vary learning rates by orders of 10 (e.g. `1e-2`, `1e-3`, `1e-4`, `1e-5`, `1e-6`) to figure out what works."
   ]
  },
  {
   "cell_type": "code",
   "execution_count": 232,
   "metadata": {},
   "outputs": [
    {
     "name": "stdout",
     "output_type": "stream",
     "text": [
      "Epoch [20], val_loss: 8829.8223\n",
      "Epoch [40], val_loss: 8247.0439\n",
      "Epoch [60], val_loss: 8202.6182\n",
      "Epoch [80], val_loss: 8159.8892\n",
      "Epoch [100], val_loss: 8117.4878\n",
      "Epoch [120], val_loss: 8074.4985\n",
      "Epoch [140], val_loss: 8038.0669\n",
      "Epoch [160], val_loss: 8003.8418\n",
      "Epoch [180], val_loss: 7970.1934\n",
      "Epoch [200], val_loss: 7937.9102\n",
      "Epoch [220], val_loss: 7908.0454\n",
      "Epoch [240], val_loss: 7878.1323\n",
      "Epoch [260], val_loss: 7852.2056\n",
      "Epoch [280], val_loss: 7829.4126\n",
      "Epoch [300], val_loss: 7810.4341\n",
      "Epoch [320], val_loss: 7791.3384\n",
      "Epoch [340], val_loss: 7776.1641\n",
      "Epoch [360], val_loss: 7766.2563\n",
      "Epoch [380], val_loss: 7760.0923\n",
      "Epoch [400], val_loss: 7756.0410\n",
      "Epoch [420], val_loss: 7755.1172\n",
      "Epoch [440], val_loss: 7754.3335\n",
      "Epoch [460], val_loss: 7754.5493\n",
      "Epoch [480], val_loss: 7755.4946\n",
      "Epoch [500], val_loss: 7756.2480\n",
      "Epoch [520], val_loss: 7756.7964\n",
      "Epoch [540], val_loss: 7757.7017\n",
      "Epoch [560], val_loss: 7758.6055\n",
      "Epoch [580], val_loss: 7759.3696\n",
      "Epoch [600], val_loss: 7759.9180\n",
      "Epoch [620], val_loss: 7760.2710\n",
      "Epoch [640], val_loss: 7760.4048\n",
      "Epoch [660], val_loss: 7760.6606\n",
      "Epoch [680], val_loss: 7760.8608\n",
      "Epoch [700], val_loss: 7760.9741\n",
      "Epoch [720], val_loss: 7760.8848\n",
      "Epoch [740], val_loss: 7760.7695\n",
      "Epoch [760], val_loss: 7760.6069\n",
      "Epoch [780], val_loss: 7760.4565\n",
      "Epoch [800], val_loss: 7760.2554\n",
      "Epoch [820], val_loss: 7760.0483\n",
      "Epoch [840], val_loss: 7759.8413\n",
      "Epoch [860], val_loss: 7759.6113\n",
      "Epoch [880], val_loss: 7759.3901\n",
      "Epoch [900], val_loss: 7759.2007\n",
      "Epoch [920], val_loss: 7758.9194\n",
      "Epoch [940], val_loss: 7758.7759\n",
      "Epoch [960], val_loss: 7758.6411\n",
      "Epoch [980], val_loss: 7758.5513\n",
      "Epoch [1000], val_loss: 7758.3774\n"
     ]
    }
   ],
   "source": [
    "epochs = 1000\n",
    "lr = 1e-2\n",
    "history1 = fit(epochs, lr, model, train_loader, val_loader)"
   ]
  },
  {
   "cell_type": "code",
   "execution_count": 234,
   "metadata": {},
   "outputs": [
    {
     "name": "stdout",
     "output_type": "stream",
     "text": [
      "Epoch [20], val_loss: 7756.6055\n",
      "Epoch [40], val_loss: 7756.5728\n",
      "Epoch [60], val_loss: 7756.5522\n",
      "Epoch [80], val_loss: 7756.5215\n",
      "Epoch [100], val_loss: 7756.4941\n",
      "Epoch [120], val_loss: 7756.4634\n",
      "Epoch [140], val_loss: 7756.4380\n",
      "Epoch [160], val_loss: 7756.4062\n",
      "Epoch [180], val_loss: 7756.3809\n",
      "Epoch [200], val_loss: 7756.3516\n",
      "Epoch [220], val_loss: 7756.3228\n",
      "Epoch [240], val_loss: 7756.3008\n",
      "Epoch [260], val_loss: 7756.2715\n",
      "Epoch [280], val_loss: 7756.2417\n",
      "Epoch [300], val_loss: 7756.2153\n",
      "Epoch [320], val_loss: 7756.1841\n",
      "Epoch [340], val_loss: 7756.1558\n",
      "Epoch [360], val_loss: 7756.1284\n",
      "Epoch [380], val_loss: 7756.0962\n",
      "Epoch [400], val_loss: 7756.0688\n",
      "Epoch [420], val_loss: 7756.0405\n",
      "Epoch [440], val_loss: 7756.0103\n",
      "Epoch [460], val_loss: 7755.9810\n",
      "Epoch [480], val_loss: 7755.9512\n",
      "Epoch [500], val_loss: 7755.9214\n",
      "Epoch [520], val_loss: 7755.8945\n",
      "Epoch [540], val_loss: 7755.8638\n",
      "Epoch [560], val_loss: 7755.8345\n",
      "Epoch [580], val_loss: 7755.8071\n",
      "Epoch [600], val_loss: 7755.7778\n",
      "Epoch [620], val_loss: 7755.7461\n",
      "Epoch [640], val_loss: 7755.7202\n",
      "Epoch [660], val_loss: 7755.6919\n",
      "Epoch [680], val_loss: 7755.6606\n",
      "Epoch [700], val_loss: 7755.6313\n",
      "Epoch [720], val_loss: 7755.5977\n",
      "Epoch [740], val_loss: 7755.5698\n",
      "Epoch [760], val_loss: 7755.5425\n",
      "Epoch [780], val_loss: 7755.5142\n",
      "Epoch [800], val_loss: 7755.4868\n",
      "Epoch [820], val_loss: 7755.4585\n",
      "Epoch [840], val_loss: 7755.4302\n",
      "Epoch [860], val_loss: 7755.3999\n",
      "Epoch [880], val_loss: 7755.3687\n",
      "Epoch [900], val_loss: 7755.3457\n",
      "Epoch [920], val_loss: 7755.3145\n",
      "Epoch [940], val_loss: 7755.2837\n",
      "Epoch [960], val_loss: 7755.2603\n",
      "Epoch [980], val_loss: 7755.2324\n",
      "Epoch [1000], val_loss: 7755.2026\n"
     ]
    }
   ],
   "source": [
    "epochs = 1000\n",
    "lr = 1e-3\n",
    "history2 = fit(epochs, lr, model, train_loader, val_loader)"
   ]
  },
  {
   "cell_type": "code",
   "execution_count": 235,
   "metadata": {},
   "outputs": [
    {
     "name": "stdout",
     "output_type": "stream",
     "text": [
      "Epoch [20], val_loss: 7755.1992\n",
      "Epoch [40], val_loss: 7755.1968\n",
      "Epoch [60], val_loss: 7755.1948\n",
      "Epoch [80], val_loss: 7755.1909\n",
      "Epoch [100], val_loss: 7755.1880\n",
      "Epoch [120], val_loss: 7755.1870\n",
      "Epoch [140], val_loss: 7755.1836\n",
      "Epoch [160], val_loss: 7755.1812\n",
      "Epoch [180], val_loss: 7755.1782\n",
      "Epoch [200], val_loss: 7755.1763\n",
      "Epoch [220], val_loss: 7755.1738\n",
      "Epoch [240], val_loss: 7755.1714\n",
      "Epoch [260], val_loss: 7755.1680\n",
      "Epoch [280], val_loss: 7755.1665\n",
      "Epoch [300], val_loss: 7755.1641\n",
      "Epoch [320], val_loss: 7755.1606\n",
      "Epoch [340], val_loss: 7755.1582\n",
      "Epoch [360], val_loss: 7755.1558\n",
      "Epoch [380], val_loss: 7755.1538\n",
      "Epoch [400], val_loss: 7755.1523\n",
      "Epoch [420], val_loss: 7755.1484\n",
      "Epoch [440], val_loss: 7755.1450\n",
      "Epoch [460], val_loss: 7755.1421\n",
      "Epoch [480], val_loss: 7755.1401\n",
      "Epoch [500], val_loss: 7755.1372\n",
      "Epoch [520], val_loss: 7755.1353\n",
      "Epoch [540], val_loss: 7755.1328\n",
      "Epoch [560], val_loss: 7755.1294\n",
      "Epoch [580], val_loss: 7755.1270\n",
      "Epoch [600], val_loss: 7755.1245\n",
      "Epoch [620], val_loss: 7755.1216\n",
      "Epoch [640], val_loss: 7755.1191\n",
      "Epoch [660], val_loss: 7755.1157\n",
      "Epoch [680], val_loss: 7755.1133\n",
      "Epoch [700], val_loss: 7755.1118\n",
      "Epoch [720], val_loss: 7755.1074\n",
      "Epoch [740], val_loss: 7755.1060\n",
      "Epoch [760], val_loss: 7755.1035\n",
      "Epoch [780], val_loss: 7755.1001\n",
      "Epoch [800], val_loss: 7755.0977\n",
      "Epoch [820], val_loss: 7755.0952\n",
      "Epoch [840], val_loss: 7755.0933\n",
      "Epoch [860], val_loss: 7755.0913\n",
      "Epoch [880], val_loss: 7755.0874\n",
      "Epoch [900], val_loss: 7755.0845\n",
      "Epoch [920], val_loss: 7755.0820\n",
      "Epoch [940], val_loss: 7755.0786\n",
      "Epoch [960], val_loss: 7755.0767\n",
      "Epoch [980], val_loss: 7755.0742\n",
      "Epoch [1000], val_loss: 7755.0718\n"
     ]
    }
   ],
   "source": [
    "epochs = 1000\n",
    "lr = 1e-4\n",
    "history3 = fit(epochs, lr, model, train_loader, val_loader)"
   ]
  },
  {
   "cell_type": "code",
   "execution_count": 236,
   "metadata": {},
   "outputs": [
    {
     "name": "stdout",
     "output_type": "stream",
     "text": [
      "Epoch [20], val_loss: 7755.0688\n",
      "Epoch [40], val_loss: 7755.0664\n",
      "Epoch [60], val_loss: 7755.0645\n",
      "Epoch [80], val_loss: 7755.0620\n",
      "Epoch [100], val_loss: 7755.0591\n",
      "Epoch [120], val_loss: 7755.0566\n",
      "Epoch [140], val_loss: 7755.0542\n",
      "Epoch [160], val_loss: 7755.0508\n",
      "Epoch [180], val_loss: 7755.0483\n",
      "Epoch [200], val_loss: 7755.0454\n",
      "Epoch [220], val_loss: 7755.0435\n",
      "Epoch [240], val_loss: 7755.0410\n",
      "Epoch [260], val_loss: 7755.0376\n",
      "Epoch [280], val_loss: 7755.0337\n",
      "Epoch [300], val_loss: 7755.0327\n",
      "Epoch [320], val_loss: 7755.0298\n",
      "Epoch [340], val_loss: 7755.0273\n",
      "Epoch [360], val_loss: 7755.0234\n",
      "Epoch [380], val_loss: 7755.0210\n",
      "Epoch [400], val_loss: 7755.0190\n",
      "Epoch [420], val_loss: 7755.0156\n",
      "Epoch [440], val_loss: 7755.0132\n",
      "Epoch [460], val_loss: 7755.0098\n",
      "Epoch [480], val_loss: 7755.0073\n",
      "Epoch [500], val_loss: 7755.0054\n",
      "Epoch [520], val_loss: 7755.0015\n",
      "Epoch [540], val_loss: 7754.9985\n",
      "Epoch [560], val_loss: 7754.9961\n",
      "Epoch [580], val_loss: 7754.9937\n",
      "Epoch [600], val_loss: 7754.9907\n",
      "Epoch [620], val_loss: 7754.9868\n",
      "Epoch [640], val_loss: 7754.9849\n",
      "Epoch [660], val_loss: 7754.9819\n",
      "Epoch [680], val_loss: 7754.9790\n",
      "Epoch [700], val_loss: 7754.9766\n",
      "Epoch [720], val_loss: 7754.9727\n",
      "Epoch [740], val_loss: 7754.9692\n",
      "Epoch [760], val_loss: 7754.9673\n",
      "Epoch [780], val_loss: 7754.9644\n",
      "Epoch [800], val_loss: 7754.9624\n",
      "Epoch [820], val_loss: 7754.9590\n",
      "Epoch [840], val_loss: 7754.9556\n",
      "Epoch [860], val_loss: 7754.9531\n",
      "Epoch [880], val_loss: 7754.9507\n",
      "Epoch [900], val_loss: 7754.9487\n",
      "Epoch [920], val_loss: 7754.9453\n",
      "Epoch [940], val_loss: 7754.9429\n",
      "Epoch [960], val_loss: 7754.9399\n",
      "Epoch [980], val_loss: 7754.9375\n",
      "Epoch [1000], val_loss: 7754.9336\n"
     ]
    }
   ],
   "source": [
    "epochs = 1000\n",
    "lr = 1e-4\n",
    "history4 = fit(epochs, lr, model, train_loader, val_loader)"
   ]
  },
  {
   "cell_type": "code",
   "execution_count": 237,
   "metadata": {},
   "outputs": [
    {
     "name": "stdout",
     "output_type": "stream",
     "text": [
      "Epoch [20], val_loss: 7754.9336\n",
      "Epoch [40], val_loss: 7754.9341\n",
      "Epoch [60], val_loss: 7754.9336\n",
      "Epoch [80], val_loss: 7754.9336\n",
      "Epoch [100], val_loss: 7754.9331\n",
      "Epoch [120], val_loss: 7754.9321\n",
      "Epoch [140], val_loss: 7754.9321\n",
      "Epoch [160], val_loss: 7754.9321\n",
      "Epoch [180], val_loss: 7754.9316\n",
      "Epoch [200], val_loss: 7754.9312\n",
      "Epoch [220], val_loss: 7754.9312\n",
      "Epoch [240], val_loss: 7754.9316\n",
      "Epoch [260], val_loss: 7754.9312\n",
      "Epoch [280], val_loss: 7754.9312\n",
      "Epoch [300], val_loss: 7754.9302\n",
      "Epoch [320], val_loss: 7754.9312\n",
      "Epoch [340], val_loss: 7754.9292\n",
      "Epoch [360], val_loss: 7754.9297\n",
      "Epoch [380], val_loss: 7754.9292\n",
      "Epoch [400], val_loss: 7754.9292\n",
      "Epoch [420], val_loss: 7754.9297\n",
      "Epoch [440], val_loss: 7754.9297\n",
      "Epoch [460], val_loss: 7754.9292\n",
      "Epoch [480], val_loss: 7754.9277\n",
      "Epoch [500], val_loss: 7754.9277\n",
      "Epoch [520], val_loss: 7754.9272\n",
      "Epoch [540], val_loss: 7754.9272\n",
      "Epoch [560], val_loss: 7754.9272\n",
      "Epoch [580], val_loss: 7754.9272\n",
      "Epoch [600], val_loss: 7754.9263\n",
      "Epoch [620], val_loss: 7754.9272\n",
      "Epoch [640], val_loss: 7754.9263\n",
      "Epoch [660], val_loss: 7754.9258\n",
      "Epoch [680], val_loss: 7754.9258\n",
      "Epoch [700], val_loss: 7754.9253\n",
      "Epoch [720], val_loss: 7754.9253\n",
      "Epoch [740], val_loss: 7754.9253\n",
      "Epoch [760], val_loss: 7754.9243\n",
      "Epoch [780], val_loss: 7754.9243\n",
      "Epoch [800], val_loss: 7754.9233\n",
      "Epoch [820], val_loss: 7754.9233\n",
      "Epoch [840], val_loss: 7754.9238\n",
      "Epoch [860], val_loss: 7754.9224\n",
      "Epoch [880], val_loss: 7754.9219\n",
      "Epoch [900], val_loss: 7754.9219\n",
      "Epoch [920], val_loss: 7754.9219\n",
      "Epoch [940], val_loss: 7754.9219\n",
      "Epoch [960], val_loss: 7754.9214\n",
      "Epoch [980], val_loss: 7754.9219\n",
      "Epoch [1000], val_loss: 7754.9204\n"
     ]
    }
   ],
   "source": [
    "epochs = 1000\n",
    "lr = 1e-5\n",
    "history5 = fit(epochs, lr, model, train_loader, val_loader)"
   ]
  },
  {
   "cell_type": "code",
   "execution_count": 240,
   "metadata": {},
   "outputs": [
    {
     "data": {
      "image/png": "[encoded data removed]",
      "text/plain": [
       "<Figure size 432x288 with 1 Axes>"
      ]
     },
     "metadata": {
      "needs_background": "light"
     },
     "output_type": "display_data"
    }
   ],
   "source": [
    "# Replace these values with your results\n",
    "history = [result] + history1 + history2 + history3 + history4 + history5\n",
    "accuracies = [result['val_loss'] for result in history]\n",
    "plt.plot(accuracies, '-x')\n",
    "plt.xlabel('epoch')\n",
    "plt.ylabel('loss')\n",
    "plt.title('Loss vs. No. of epochs');\n",
    "\n",
    "#looks like we found the optimal loss"
   ]
  },
  {
   "cell_type": "markdown",
   "metadata": {},
   "source": [
    "**Q: What is the final validation loss of your model?**"
   ]
  },
  {
   "cell_type": "code",
   "execution_count": 241,
   "metadata": {},
   "outputs": [],
   "source": [
    "val_loss = 7754.9204"
   ]
  },
  {
   "cell_type": "markdown",
   "metadata": {},
   "source": [
    "Let's log the final validation loss to Jovian and commit the notebook"
   ]
  },
  {
   "cell_type": "code",
   "execution_count": 242,
   "metadata": {},
   "outputs": [
    {
     "name": "stdout",
     "output_type": "stream",
     "text": [
      "[jovian] Metrics logged.\n"
     ]
    }
   ],
   "source": [
    "jovian.log_metrics(val_loss=val_loss)"
   ]
  },
  {
   "cell_type": "code",
   "execution_count": 243,
   "metadata": {},
   "outputs": [
    {
     "data": {
      "application/javascript": [
       "window.require && require([\"base/js/namespace\"],function(Jupyter){Jupyter.notebook.save_checkpoint()})"
      ],
      "text/plain": [
       "<IPython.core.display.Javascript object>"
      ]
     },
     "metadata": {},
     "output_type": "display_data"
    },
    {
     "name": "stdout",
     "output_type": "stream",
     "text": [
      "[jovian] Attempting to save notebook..\n",
      "[jovian] Updating notebook \"bbaloglu/assignment2-insurance-linear-regression\" on https://jovian.ml/\n",
      "[jovian] Uploading notebook..\n",
      "[jovian] Attaching records (metrics, hyperparameters, dataset etc.)\n",
      "[jovian] Committed successfully! https://jovian.ml/bbaloglu/assignment2-insurance-linear-regression\n"
     ]
    },
    {
     "data": {
      "text/plain": [
       "'https://jovian.ml/bbaloglu/assignment2-insurance-linear-regression'"
      ]
     },
     "execution_count": 243,
     "metadata": {},
     "output_type": "execute_result"
    }
   ],
   "source": [
    "jovian.commit(project=project_name, environment=None)"
   ]
  },
  {
   "cell_type": "markdown",
   "metadata": {},
   "source": [
    "Now scroll back up, re-initialize the model, and try different set of values for batch size, number of epochs, learning rate etc. Commit each experiment and use the \"Compare\" and \"View Diff\" options on Jovian to compare the different results."
   ]
  },
  {
   "cell_type": "markdown",
   "metadata": {},
   "source": [
    "## Step 5: Make predictions using the trained model\n",
    "\n",
    "**Q: Complete the following function definition to make predictions on a single input**"
   ]
  },
  {
   "cell_type": "code",
   "execution_count": 244,
   "metadata": {},
   "outputs": [],
   "source": [
    "def predict_single(input, target, model):\n",
    "    inputs = input.unsqueeze(0)\n",
    "    predictions = model(inputs)               # fill this\n",
    "    prediction = predictions[0].detach()\n",
    "    print(\"Input:\", input)\n",
    "    print(\"Target:\", target)\n",
    "    print(\"Prediction:\", prediction)"
   ]
  },
  {
   "cell_type": "code",
   "execution_count": 245,
   "metadata": {},
   "outputs": [
    {
     "name": "stdout",
     "output_type": "stream",
     "text": [
      "Input: tensor([22.0000,  1.0000, 37.3800,  0.0000,  1.0000])\n",
      "Target: tensor([38432.4219])\n",
      "Prediction: tensor([2865.2869])\n"
     ]
    }
   ],
   "source": [
    "input, target = val_ds[0]\n",
    "predict_single(input, target, model)"
   ]
  },
  {
   "cell_type": "code",
   "execution_count": 246,
   "metadata": {},
   "outputs": [
    {
     "name": "stdout",
     "output_type": "stream",
     "text": [
      "Input: tensor([46.0000,  1.0000, 44.4675,  3.0000,  1.0000])\n",
      "Target: tensor([49843.2148])\n",
      "Prediction: tensor([9043.4248])\n"
     ]
    }
   ],
   "source": [
    "input, target = val_ds[10]\n",
    "predict_single(input, target, model)"
   ]
  },
  {
   "cell_type": "code",
   "execution_count": 249,
   "metadata": {},
   "outputs": [
    {
     "name": "stdout",
     "output_type": "stream",
     "text": [
      "Input: tensor([35.0000,  0.0000, 37.6058,  1.0000,  0.0000])\n",
      "Target: tensor([6080.8945])\n",
      "Prediction: tensor([6463.4727])\n"
     ]
    }
   ],
   "source": [
    "input, target = val_ds[23]\n",
    "predict_single(input, target, model)"
   ]
  },
  {
   "cell_type": "code",
   "execution_count": 251,
   "metadata": {},
   "outputs": [
    {
     "name": "stdout",
     "output_type": "stream",
     "text": [
      "Input: tensor([56.0000,  0.0000, 26.9325,  0.0000,  0.0000])\n",
      "Target: tensor([12370.3428])\n",
      "Prediction: tensor([13157.9590])\n"
     ]
    }
   ],
   "source": [
    "input, target = val_ds[40]\n",
    "predict_single(input, target, model)"
   ]
  },
  {
   "cell_type": "markdown",
   "metadata": {},
   "source": [
    "Are you happy with your model's predictions? Try to improve them further."
   ]
  },
  {
   "cell_type": "markdown",
   "metadata": {},
   "source": [
    "## (Optional) Step 6: Try another dataset & blog about it\n",
    "\n",
    "While this last step is optional for the submission of your assignment, we highly recommend that you do it. Try to clean up & replicate this notebook (or [this one](https://jovian.ml/aakashns/housing-linear-minimal), or [this one](https://jovian.ml/aakashns/mnist-logistic-minimal) ) for a different linear regression or logistic regression problem. This will help solidify your understanding, and give you a chance to differentiate the generic patters in machine learning from problem-specific details.\n",
    "\n",
    "Here are some sources to find good datasets:\n",
    "\n",
    "- https://lionbridge.ai/datasets/10-open-datasets-for-linear-regression/\n",
    "- https://www.kaggle.com/rtatman/datasets-for-regression-analysis\n",
    "- https://archive.ics.uci.edu/ml/datasets.php?format=&task=reg&att=&area=&numAtt=&numIns=&type=&sort=nameUp&view=table\n",
    "- https://people.sc.fsu.edu/~jburkardt/datasets/regression/regression.html\n",
    "- https://archive.ics.uci.edu/ml/datasets/wine+quality\n",
    "- https://pytorch.org/docs/stable/torchvision/datasets.html\n",
    "\n",
    "We also recommend that you write a blog about your approach to the problem. Here is a suggested structure for your post (feel free to experiment with it):\n",
    "\n",
    "- Interesting title & subtitle\n",
    "- Overview of what the blog covers (which dataset, linear regression or logistic regression, intro to PyTorch)\n",
    "- Downloading & exploring the data\n",
    "- Preparing the data for training\n",
    "- Creating a model using PyTorch\n",
    "- Training the model to fit the data\n",
    "- Your thoughts on how to experiment with different hyperparmeters to reduce loss\n",
    "- Making predictions using the model\n",
    "\n",
    "As with the previous assignment, you can [embed Juptyer notebook cells & outputs from Jovian](https://medium.com/jovianml/share-and-embed-jupyter-notebooks-online-with-jovian-ml-df709a03064e) into your blog. \n",
    "\n",
    "Don't forget to share your work on the forum: https://jovian.ml/forum/t/share-your-work-here-assignment-2/4931"
   ]
  },
  {
   "cell_type": "code",
   "execution_count": 250,
   "metadata": {},
   "outputs": [
    {
     "data": {
      "application/javascript": [
       "window.require && require([\"base/js/namespace\"],function(Jupyter){Jupyter.notebook.save_checkpoint()})"
      ],
      "text/plain": [
       "<IPython.core.display.Javascript object>"
      ]
     },
     "metadata": {},
     "output_type": "display_data"
    },
    {
     "name": "stdout",
     "output_type": "stream",
     "text": [
      "[jovian] Attempting to save notebook..\n",
      "[jovian] Updating notebook \"bbaloglu/assignment2-insurance-linear-regression\" on https://jovian.ml/\n",
      "[jovian] Uploading notebook..\n",
      "[jovian] Attaching records (metrics, hyperparameters, dataset etc.)\n",
      "[jovian] Committed successfully! https://jovian.ml/bbaloglu/assignment2-insurance-linear-regression\n"
     ]
    },
    {
     "data": {
      "application/javascript": [
       "window.require && require([\"base/js/namespace\"],function(Jupyter){Jupyter.notebook.save_checkpoint()})"
      ],
      "text/plain": [
       "<IPython.core.display.Javascript object>"
      ]
     },
     "metadata": {},
     "output_type": "display_data"
    },
    {
     "name": "stdout",
     "output_type": "stream",
     "text": [
      "[jovian] Attempting to save notebook..\n",
      "[jovian] Updating notebook \"bbaloglu/assignment2-insurance-linear-regression\" on https://jovian.ml/\n",
      "[jovian] Uploading notebook..\n",
      "[jovian] Attaching records (metrics, hyperparameters, dataset etc.)\n",
      "[jovian] Committed successfully! https://jovian.ml/bbaloglu/assignment2-insurance-linear-regression\n"
     ]
    },
    {
     "data": {
      "text/plain": [
       "'https://jovian.ml/bbaloglu/assignment2-insurance-linear-regression'"
      ]
     },
     "execution_count": 250,
     "metadata": {},
     "output_type": "execute_result"
    }
   ],
   "source": [
    "jovian.commit(project=project_name, environment=None)\n",
    "jovian.commit(project=project_name, environment=None) # try again, kaggle fails sometimes"
   ]
  },
  {
   "cell_type": "code",
   "execution_count": null,
   "metadata": {},
   "outputs": [],
   "source": []
  }
 ],
 "metadata": {
  "kernelspec": {
   "display_name": "Python 3",
   "language": "python",
   "name": "python3"
  },
  "language_info": {
   "codemirror_mode": {
    "name": "ipython",
    "version": 3
   },
   "file_extension": ".py",
   "mimetype": "text/x-python",
   "name": "python",
   "nbconvert_exporter": "python",
   "pygments_lexer": "ipython3",
   "version": "3.7.4"
  }
 },
 "nbformat": 4,
 "nbformat_minor": 4
}
